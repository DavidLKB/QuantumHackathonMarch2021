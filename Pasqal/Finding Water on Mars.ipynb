{
 "cells": [
  {
   "cell_type": "markdown",
   "metadata": {},
   "source": [
    "# Introduction"
   ]
  },
  {
   "cell_type": "markdown",
   "metadata": {},
   "source": [
    "Perseverance landed on Mars on February 18th inside of the Jezero Crater. With a diameter of over 40km, the crater is believed to have been filled with water 3.5 billion years ago. Conceivably, microbial life could have lived in Jezero lake during the time it was wet. Also, it is possible that water still exists under the surface: recent data from the Mars Global Surveyor suggests that liquid water may exist just below the surface in rare places. Finding Martian sources of water is of capital importance to prepare for the human exploration of Mars. For many years, Rovers, drones and other robots sent to Mars have been conscientiously sensing and searching for such sources of water. A noble but difficult task: Curiosity has only covered a 24km thin line in two years… a bit like finding a needle in a haystack !"
   ]
  },
  {
   "cell_type": "markdown",
   "metadata": {},
   "source": [
    "# A fleet of autonomous sensors"
   ]
  },
  {
   "cell_type": "markdown",
   "metadata": {},
   "source": [
    "Looking at the size of this daunting task, it might be more efficient to send a fleet of autonomous nano-sensors that could work collectively to explore areas of Jezero. Ultra-light weighted, each mobile sensor is equipped with a power source, a short connection range and a small amount of memory. At any time, the positions of the sensors define a graph, where an edge between two nodes represents a communication link. \n",
    "\n",
    "<img src=\"files/Nano_sensors.png\" alt=\"Nano drones\" style=\"width: 700px;\"/>\n",
    "\n",
    "*Figure 1: A mobile fleet of autonomous sensors hovers over Jezero in the hope of detecting underground water.*\n",
    "\n",
    "\n",
    "Each node can activate a “transmitter” feature to relay information to its closest neighbors. By transmitting information between them, the sensors can move collectively to areas of interest like a bird swarm. "
   ]
  },
  {
   "cell_type": "markdown",
   "metadata": {},
   "source": [
    "# The need for a virtual backbone: Connected Dominant Set "
   ]
  },
  {
   "cell_type": "markdown",
   "metadata": {},
   "source": [
    "Because of the short connection range, having all nodes in transmitter mode guarantees global communication. However, activating the transmitter feature drains the battery of the nano-sensors and many redundant nodes will spread the same information. \n",
    "In order to preserve the precious lifetime of the sensor population, an efficient method is to define a virtual backbone for each graph topology. A virtual backbone is a subset of the nodes that includes only those used for routing, i.e. which are put in transmitter mode. Meanwhile the remaining nodes save energy by only doing the sensing task. Nodes in the virtual backbone can communicate with each other and can relay information to any other node of the graph."
   ]
  },
  {
   "cell_type": "markdown",
   "metadata": {},
   "source": [
    "Let $G=(V,E)$ be a graph. A **Connected Dominant Set** (CDS) of $G$ is a subset $ D \\subset V $ such that:\n",
    "\n",
    "- All vertices in $D$ are connected\n",
    "- Each vertex in $V \\backslash D$ is a neighbor of at least one node in $D$. "
   ]
  },
  {
   "cell_type": "markdown",
   "metadata": {},
   "source": [
    "<img src=\"files/CDS.png\" alt=\"Nano drones\" style=\"width: 700px;\"/>"
   ]
  },
  {
   "cell_type": "markdown",
   "metadata": {},
   "source": [
    "In this graph, the Connected Dominated Set is represented in dark green. All sensors in light green can then save energy by turning off the transmitter mode ! Unfortunately, finding the CDS of a graph is NP-hard."
   ]
  },
  {
   "cell_type": "markdown",
   "metadata": {},
   "source": [
    "###   <span style=\"color:dark green\">In this challenge, you must find a \"good\" CDS of a graph using Pulser </span>"
   ]
  },
  {
   "cell_type": "markdown",
   "metadata": {},
   "source": [
    "Good luck ! You can either write the code in this notebook, or create one of your own. Even if unsuccessful, any tentative will be taken into account. To familiarize yourselves with the capabilities of neutral atoms and Pulser, start with the preliminary questions."
   ]
  },
  {
   "cell_type": "markdown",
   "metadata": {},
   "source": [
    "## Preliminary: Understanding the Rydberg blockade"
   ]
  },
  {
   "cell_type": "markdown",
   "metadata": {},
   "source": [
    "Design global pulse sequences addressing simultaneously groups of 2, 3, and 4 atoms with inter-atomic distances smaller than 8 $\\mu m$. For example, you can take a pulse at resonance with a constant Rabi frequency of $2\\pi \\times 1$ MHz. In each case, show the dynamics of the total number of excitations in the system. Comment. What is the probability of each atom being excited ? Now, what happens for large inter-atomic distances ?"
   ]
  },
  {
   "cell_type": "markdown",
   "metadata": {},
   "source": [
    "## Time for the challenge ! "
   ]
  },
  {
   "cell_type": "markdown",
   "metadata": {},
   "source": [
    "Using the above physics, write a program that finds a minimal CDS of the follwing graph using Pulser."
   ]
  },
  {
   "cell_type": "code",
   "execution_count": 1,
   "metadata": {},
   "outputs": [
    {
     "data": {
      "image/png": "[encoded data removed]",
      "text/plain": [
       "<Figure size 432x288 with 1 Axes>"
      ]
     },
     "metadata": {},
     "output_type": "display_data"
    }
   ],
   "source": [
    "import networkx as nx \n",
    "G = nx.Graph()\n",
    "G.add_edges_from([(0,1),(0,2),(0,3),(1,4),(1,5)])\n",
    "nx.draw(G,pos=nx.spring_layout(G))"
   ]
  },
  {
   "cell_type": "markdown",
   "metadata": {},
   "source": [
    "## Bonus questions "
   ]
  },
  {
   "cell_type": "markdown",
   "metadata": {},
   "source": [
    "**`(Hard)`** In a finer model, the nano-sensors transmitting the information have an importance that increases with the number of neighbors they can connect to. Taking into account these priorities, enrich your algorithm to solve the weighted version of the CDS problem.\n",
    "\n",
    "**`(Very Hard)`** The nano-drones can sense their surroundings using two types of analyzers: Atmospheric detectors (A) or Below-ground (B) detectors. Two detectors can work together to enhance the quality of their analysis. In practice, the best configuration is to separate the sensors in two complementary classes A and B, in such a way that it maximizes the number of edges between the two classes to ensure maximal communication between them. Show what Hamiltonian could be used to encode this problem, and simulate it using Pulser. "
   ]
  }
 ],
 "metadata": {
  "kernelspec": {
   "display_name": "Python 3",
   "language": "python",
   "name": "python3"
  },
  "language_info": {
   "codemirror_mode": {
    "name": "ipython",
    "version": 3
   },
   "file_extension": ".py",
   "mimetype": "text/x-python",
   "name": "python",
   "nbconvert_exporter": "python",
   "pygments_lexer": "ipython3",
   "version": "3.7.4"
  }
 },
 "nbformat": 4,
 "nbformat_minor": 2
}
