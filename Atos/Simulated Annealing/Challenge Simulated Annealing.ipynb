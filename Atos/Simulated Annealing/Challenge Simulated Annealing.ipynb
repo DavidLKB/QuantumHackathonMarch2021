{
 "cells": [
  {
   "cell_type": "markdown",
   "metadata": {},
   "source": [
    "# Challenge: Simulated annealing"
   ]
  },
  {
   "cell_type": "markdown",
   "metadata": {},
   "source": [
    "## 1. Max Cut\n",
    "\n",
    "### Definition\n",
    "\n",
    "We are given an undirected graph with vertex set $V$ and edge set $E$. \n",
    "\n",
    "Our aim is to partition the graph into two subgraphs connected by the maximum number of edges.\n",
    "\n",
    "\n",
    "### Path to solving the problem\n",
    "\n",
    "MaxCut is a maximization problem and its cost function can be cast to an Ising problem through its respective Hamiltonian (see the [Introduction](./introduction.ipynb) and a [reference](https://en.wikipedia.org/wiki/Maximum_cut#Theoretical_physics)),\n",
    "\n",
    "$$ \\displaystyle \\large\n",
    "H = \\displaystyle \\textstyle\\sum\\limits_{uv \\in E} s_{u} s_{v}\n",
    "$$\n",
    "\n",
    "where $v, u \\in V$ and $s_u$ is a spin variable, which is $1$ if vertex $u$ is in the one subgraph and $-1$ if it is in the other.\n",
    "\n",
    "myQLM allows us to encode a problem in this Hamiltonian form by using the `MaxCut` class with some specified graph. We can then create a job from the problem and send it to a Simulated Annealer (SA) wrapped with a Quantum Processing Unit (QPU) interface. The SA will minimize the Hamiltonian, hence we find the best solution to our problem.\n"
   ]
  },
  {
   "cell_type": "code",
   "execution_count": 1,
   "metadata": {},
   "outputs": [],
   "source": [
    "# Misc imports\n",
    "import numpy as np\n",
    "import matplotlib.pyplot as plt\n",
    "import scipy\n",
    "\n",
    "from qat.qpus import SimulatedAnnealing\n",
    "from qat.simulated_annealing import integer_to_spins\n",
    "from qat.core import Variable\n",
    "\n",
    "import networkx as nx"
   ]
  },
  {
   "cell_type": "code",
   "execution_count": 2,
   "metadata": {},
   "outputs": [
    {
     "data": {
      "image/png": "[encoded data removed]",
      "text/plain": [
       "<Figure size 288x216 with 1 Axes>"
      ]
     },
     "metadata": {},
     "output_type": "display_data"
    }
   ],
   "source": [
    "graph = nx.generators.random_graphs.erdos_renyi_graph(7, .55)\n",
    "\n",
    "N_nodes = len(graph.nodes)\n",
    "pos=nx.spring_layout(graph)\n",
    "\n",
    "plt.figure(figsize=(4,3))\n",
    "nx.draw(graph, with_labels=True, font_weight='bold', pos=pos)\n"
   ]
  },
  {
   "cell_type": "markdown",
   "metadata": {},
   "source": [
    "To represent the problem as an Ising problem, how many spins do you need?"
   ]
  },
  {
   "cell_type": "markdown",
   "metadata": {},
   "source": [
    "Answer: "
   ]
  },
  {
   "cell_type": "code",
   "execution_count": 3,
   "metadata": {},
   "outputs": [],
   "source": [
    "from qat.opt import MaxCut"
   ]
  },
  {
   "cell_type": "markdown",
   "metadata": {},
   "source": [
    "_Instantiate a MaxCut object_"
   ]
  },
  {
   "cell_type": "code",
   "execution_count": null,
   "metadata": {},
   "outputs": [],
   "source": []
  },
  {
   "cell_type": "markdown",
   "metadata": {},
   "source": [
    "_Extract the evolution parameters for Simulated Annealing from the problem object_"
   ]
  },
  {
   "cell_type": "code",
   "execution_count": null,
   "metadata": {},
   "outputs": [],
   "source": []
  },
  {
   "cell_type": "markdown",
   "metadata": {},
   "source": [
    "_Create a temperature schedule and a QPU_"
   ]
  },
  {
   "cell_type": "code",
   "execution_count": null,
   "metadata": {},
   "outputs": [],
   "source": []
  },
  {
   "cell_type": "markdown",
   "metadata": {},
   "source": [
    "_Create a job and send it to the QPU_"
   ]
  },
  {
   "cell_type": "code",
   "execution_count": null,
   "metadata": {},
   "outputs": [],
   "source": []
  },
  {
   "cell_type": "markdown",
   "metadata": {},
   "source": [
    "_Extract and print solution configuration_"
   ]
  },
  {
   "cell_type": "code",
   "execution_count": null,
   "metadata": {},
   "outputs": [],
   "source": []
  },
  {
   "cell_type": "markdown",
   "metadata": {},
   "source": [
    "_Draw the colored subgraphs_\n",
    "\n",
    "Hint: look for the drawing function of networkx"
   ]
  },
  {
   "cell_type": "code",
   "execution_count": null,
   "metadata": {},
   "outputs": [],
   "source": []
  },
  {
   "cell_type": "markdown",
   "metadata": {},
   "source": [
    "## 2. Simple optimization problem: diving deeper"
   ]
  },
  {
   "cell_type": "markdown",
   "metadata": {},
   "source": [
    "_Prepare again simulator if you think it is necessary_"
   ]
  },
  {
   "cell_type": "code",
   "execution_count": 9,
   "metadata": {},
   "outputs": [],
   "source": [
    "#...\n",
    "sa_qpu = SimulatedAnnealing(...)"
   ]
  },
  {
   "cell_type": "markdown",
   "metadata": {},
   "source": [
    "## 2.1 Minimization\n",
    "Let's minimize $y= -5x_1 -3x_2 -8x_3 -6x_4 +4x_1x_2 +8x_1x_2 +2x_2x_3 +10x_3x_4$ "
   ]
  },
  {
   "cell_type": "markdown",
   "metadata": {},
   "source": [
    "_Search for information about QUBO_\n",
    "\n",
    "_Write the Q matrix and use it to create a QUBO representation of this problem._"
   ]
  },
  {
   "cell_type": "code",
   "execution_count": null,
   "metadata": {},
   "outputs": [],
   "source": []
  },
  {
   "cell_type": "markdown",
   "metadata": {},
   "source": [
    "_Create a transverse field schedule and submit your job_"
   ]
  },
  {
   "cell_type": "code",
   "execution_count": null,
   "metadata": {},
   "outputs": [],
   "source": []
  },
  {
   "cell_type": "markdown",
   "metadata": {},
   "source": [
    "_Print out the solution as spin variables (Ising formulation) and as binary variables (QUBO)_"
   ]
  },
  {
   "cell_type": "code",
   "execution_count": null,
   "metadata": {},
   "outputs": [],
   "source": []
  },
  {
   "cell_type": "markdown",
   "metadata": {},
   "source": [
    "_Calculate the minimum energy of the solution_"
   ]
  },
  {
   "cell_type": "code",
   "execution_count": null,
   "metadata": {},
   "outputs": [],
   "source": []
  },
  {
   "cell_type": "markdown",
   "metadata": {},
   "source": [
    "## 2.2 Maximization\n",
    "_Maximize the same function_"
   ]
  },
  {
   "cell_type": "code",
   "execution_count": null,
   "metadata": {},
   "outputs": [],
   "source": []
  },
  {
   "cell_type": "markdown",
   "metadata": {},
   "source": [
    "## 3. Back to the Max-cut problem\n",
    "### Without the MaxCut class"
   ]
  },
  {
   "cell_type": "markdown",
   "metadata": {},
   "source": [
    "- _Taking inspiration from the cost function given at the very beginning of this notebook, build the matrix J, the vector h and the offset O with the graph parameters._\n",
    "- _Construct an Ising problem_"
   ]
  },
  {
   "cell_type": "code",
   "execution_count": null,
   "metadata": {},
   "outputs": [],
   "source": []
  },
  {
   "cell_type": "markdown",
   "metadata": {},
   "source": [
    "_Run the simulation to find the maximum cut_"
   ]
  },
  {
   "cell_type": "code",
   "execution_count": null,
   "metadata": {},
   "outputs": [],
   "source": []
  },
  {
   "cell_type": "markdown",
   "metadata": {},
   "source": [
    "_Analyze and display your results_"
   ]
  },
  {
   "cell_type": "code",
   "execution_count": null,
   "metadata": {},
   "outputs": [],
   "source": []
  },
  {
   "cell_type": "markdown",
   "metadata": {},
   "source": [
    "## 4. ODE resolution"
   ]
  },
  {
   "cell_type": "markdown",
   "metadata": {},
   "source": [
    "### 4.1 Float vector"
   ]
  },
  {
   "cell_type": "code",
   "execution_count": 22,
   "metadata": {},
   "outputs": [],
   "source": [
    "from qat.qpus import SimulatedAnnealing\n",
    "import numpy as np\n",
    "from qat.core import Variable\n",
    "from scipy.optimize import minimize\n",
    "import matplotlib.pyplot as plt\n",
    "import itertools"
   ]
  },
  {
   "cell_type": "markdown",
   "metadata": {},
   "source": [
    "We will implement a method to solve the following ODE \n",
    "$$u'' -G u'- ku = 0 \\ \\ \\ \\  (1)$$\n",
    "\n",
    "with simulated annealing."
   ]
  },
  {
   "cell_type": "code",
   "execution_count": 23,
   "metadata": {},
   "outputs": [],
   "source": [
    "k=1/10\n",
    "G=-1/50"
   ]
  },
  {
   "cell_type": "markdown",
   "metadata": {},
   "source": [
    "How do you write this equation in finite difference terms? The solution u will be considered as a 50-point vector.  \n",
    "\n",
    "Hint1: let's forget about binary/Ising variables for the moment.\n",
    "\n",
    "Hint2: What is the linear operator corresponding to the derivative? Think about its definition with dx=1."
   ]
  },
  {
   "cell_type": "code",
   "execution_count": null,
   "metadata": {},
   "outputs": [],
   "source": []
  },
  {
   "cell_type": "markdown",
   "metadata": {},
   "source": [
    "Once you have done this, you should realize that the problem became a resolution of a system of linear equations.\n",
    "\n",
    "How can you rewrite it as a minimization?\n",
    "\n",
    "Write the function to minimize that we'll call cost function and minimize it with scipy. Do not consider boundaries conditions yet."
   ]
  },
  {
   "cell_type": "code",
   "execution_count": null,
   "metadata": {},
   "outputs": [],
   "source": []
  },
  {
   "cell_type": "markdown",
   "metadata": {},
   "source": [
    "Modify the cost function and/or the minimization procedure to consider boundary conditions.\n",
    "\n",
    "We will use in the rest of this notebook:\n",
    "- u(0) = 3\n",
    "- u(1) = 2.5"
   ]
  },
  {
   "cell_type": "code",
   "execution_count": null,
   "metadata": {},
   "outputs": [],
   "source": []
  },
  {
   "cell_type": "markdown",
   "metadata": {},
   "source": [
    "Plot the solution"
   ]
  },
  {
   "cell_type": "code",
   "execution_count": null,
   "metadata": {},
   "outputs": [],
   "source": []
  },
  {
   "cell_type": "markdown",
   "metadata": {},
   "source": [
    "You should have obtained a vector of size 50 and type float. Let's call it best_sol.\n",
    "\n",
    "_What is the minimum value of the cost function_"
   ]
  },
  {
   "cell_type": "code",
   "execution_count": null,
   "metadata": {},
   "outputs": [],
   "source": []
  },
  {
   "cell_type": "markdown",
   "metadata": {},
   "source": [
    "### Binary formulation\n",
    "So far, the solution u is represented as a vector with the type float. In annealing, the output variables are binaries and so we need to recast our problem with this constraint. \n",
    "\n",
    "We will consider a fixed float approach to represent real numbers. Let's start by using 5 bits, this the MSB corresponding to 2 and the LSB to 0.125.\n",
    "\n",
    "Write the float2bin and bin2float functions that convert from float to this binary representation. "
   ]
  },
  {
   "cell_type": "code",
   "execution_count": 34,
   "metadata": {},
   "outputs": [],
   "source": [
    "N_bits=5"
   ]
  },
  {
   "cell_type": "code",
   "execution_count": null,
   "metadata": {},
   "outputs": [],
   "source": []
  },
  {
   "cell_type": "markdown",
   "metadata": {},
   "source": [
    "Test it on the boundary conditions. Your function should return\n",
    "- u(0) $\\rightarrow$ float2bin(3) = [1,1,0,0,0]\n",
    "- u(1) $\\rightarrow$ float2bin(2.5) = [1,0,1,0,0]"
   ]
  },
  {
   "cell_type": "code",
   "execution_count": null,
   "metadata": {},
   "outputs": [],
   "source": []
  },
  {
   "cell_type": "markdown",
   "metadata": {},
   "source": [
    "_Transform the operators and the boundary conditions previously used in this representation_\n",
    "\n",
    "What are the size of each operator?"
   ]
  },
  {
   "cell_type": "code",
   "execution_count": null,
   "metadata": {},
   "outputs": [],
   "source": []
  },
  {
   "cell_type": "markdown",
   "metadata": {},
   "source": [
    "Once again, find the solution of the ODE via a minimization using scipy and the objects in the fixed float representation"
   ]
  },
  {
   "cell_type": "code",
   "execution_count": null,
   "metadata": {},
   "outputs": [],
   "source": []
  },
  {
   "cell_type": "markdown",
   "metadata": {},
   "source": [
    "The solution vector will still contain float numbers because you are using scipy and presumably an optimizer that does not constrain the variables to be binary (or even between 0 and 1). It is ok here because we just want to be sure you transformed well everything.\n",
    "\n",
    "In the case where we use a lot of bits, there should be a solution where the vector values are 0 or 1. \n",
    "\n",
    "_Transform back the solution vector with the bin2float function and retrieve the solution vector that you obtain with the real operators. Make sure you have the same vector or that the cost function have the same minimum value with both solutions._\n",
    "\n",
    "_Plot the solution with matplotlib._"
   ]
  },
  {
   "cell_type": "code",
   "execution_count": null,
   "metadata": {},
   "outputs": [],
   "source": []
  },
  {
   "cell_type": "markdown",
   "metadata": {},
   "source": [
    "Optional: You must have obtained a vector of size 50*p (p is a number related to the fixed float representation, what is it?). Since we used scipy, this vector is of type float (while we wanted binary). Let's cheat a bit: \n",
    "\n",
    "Transform this vector to a vector v2 of size 50 with bin2float. Normally, you should get something very close to best_sol. Now, transform v2 with float2bin. This gives you v3, the binary decomposition of your solution. Transform v3 again with bin2float to get best_sol_from_bin and plot it. \n",
    "\n",
    "What we did here is to truncate the part that cannot be represented with the fixed float approach and a finite number of qubits. "
   ]
  },
  {
   "cell_type": "code",
   "execution_count": null,
   "metadata": {},
   "outputs": [],
   "source": []
  },
  {
   "cell_type": "markdown",
   "metadata": {},
   "source": [
    "### 3.3 Minimize the cost function with the SA simulator\n",
    "**Express the problem as a QUBO problem**\n"
   ]
  },
  {
   "cell_type": "markdown",
   "metadata": {},
   "source": [
    "Now that you have these operators in fixed float representation, you are close to solve the ODE with an annealer. \n",
    "\n",
    "We will rewrite the minimization problem as a QUBO problem."
   ]
  },
  {
   "cell_type": "markdown",
   "metadata": {},
   "source": [
    "_First, create the Q matrix of the problem without considering boundary conditions_"
   ]
  },
  {
   "cell_type": "code",
   "execution_count": null,
   "metadata": {},
   "outputs": [],
   "source": []
  },
  {
   "cell_type": "markdown",
   "metadata": {},
   "source": [
    "Find a way to include boundaries conditions\n",
    "\n",
    "Hint: think in terms of penalty terms"
   ]
  },
  {
   "cell_type": "code",
   "execution_count": null,
   "metadata": {},
   "outputs": [],
   "source": []
  },
  {
   "cell_type": "markdown",
   "metadata": {},
   "source": [
    "Create the QUBO problem "
   ]
  },
  {
   "cell_type": "code",
   "execution_count": null,
   "metadata": {},
   "outputs": [],
   "source": []
  },
  {
   "cell_type": "markdown",
   "metadata": {},
   "source": [
    "**Annealing simulation**"
   ]
  },
  {
   "cell_type": "markdown",
   "metadata": {},
   "source": [
    "_Instantiate a new Simulated annealing QPU and define the parameters to run the simulation. Optimize the parameters to get the best solution if needed._"
   ]
  },
  {
   "cell_type": "code",
   "execution_count": null,
   "metadata": {},
   "outputs": [],
   "source": []
  },
  {
   "cell_type": "markdown",
   "metadata": {},
   "source": [
    "Transform the binary vector that the simulator outputs to a float vector (with bin2float) and plot it. \n",
    "\n",
    "You can overlap the solutions you obtained with scipy from section 3.1 and 3.2. "
   ]
  },
  {
   "cell_type": "code",
   "execution_count": null,
   "metadata": {},
   "outputs": [],
   "source": []
  },
  {
   "cell_type": "markdown",
   "metadata": {},
   "source": [
    "Calculate the value of the cost function from the Q matrix and the offset you have used for the near best solution (section 3.2) and the annealing solution.\n",
    "\n",
    "How close are they? If they are not as close as you like, what could you do?"
   ]
  },
  {
   "cell_type": "code",
   "execution_count": null,
   "metadata": {},
   "outputs": [],
   "source": []
  },
  {
   "cell_type": "markdown",
   "metadata": {},
   "source": [
    "## Extra"
   ]
  },
  {
   "cell_type": "markdown",
   "metadata": {},
   "source": [
    "Write a plugin that takes an equation as input and submit the corresponding qubo problem to the QPU. "
   ]
  },
  {
   "cell_type": "code",
   "execution_count": 62,
   "metadata": {},
   "outputs": [],
   "source": [
    "from qat.plugins import AbstractPlugin"
   ]
  },
  {
   "cell_type": "code",
   "execution_count": 63,
   "metadata": {},
   "outputs": [],
   "source": [
    "class ODE_solver(AbstractPlugin):\n",
    "    def __init__(self, equation, *args, **kwargs ):\n",
    "        pass\n",
    "    \n",
    "    def compile(self):\n",
    "        pass\n",
    "\n",
    "stack = ODE_solver(equation = [1,G,k]) | sa_qpu\n",
    "\n",
    "#stack.submit(job)"
   ]
  },
  {
   "cell_type": "code",
   "execution_count": null,
   "metadata": {},
   "outputs": [],
   "source": []
  },
  {
   "cell_type": "code",
   "execution_count": null,
   "metadata": {},
   "outputs": [],
   "source": []
  }
 ],
 "metadata": {
  "kernelspec": {
   "display_name": "Python 3",
   "language": "python",
   "name": "python3"
  },
  "language_info": {
   "codemirror_mode": {
    "name": "ipython",
    "version": 3
   },
   "file_extension": ".py",
   "mimetype": "text/x-python",
   "name": "python",
   "nbconvert_exporter": "python",
   "pygments_lexer": "ipython3",
   "version": "3.7.9"
  }
 },
 "nbformat": 4,
 "nbformat_minor": 4
}
