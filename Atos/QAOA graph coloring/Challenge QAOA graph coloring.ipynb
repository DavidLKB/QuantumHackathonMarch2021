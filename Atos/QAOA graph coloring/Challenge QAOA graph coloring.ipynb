{
 "cells": [
  {
   "cell_type": "markdown",
   "metadata": {},
   "source": [
    "# 1. QLM syntax\n",
    "## 1.1 Circuits\n",
    "Let's get familiar with myQLM/QLM syntax and workflow. We will create a circuit that generates the Bell pair\n",
    "$$|\\psi\\rangle = \\frac{|01\\rangle - |10\\rangle}{\\sqrt{2}}$$.\n",
    "You will need to:\n",
    "- create a Program() object\n",
    "- allocate a 2-qubit register\n",
    "- apply gates\n",
    "- export to a Circuit() format\n",
    "- instantiate a QPU\n",
    "- create a job\n",
    "- submit your job\n",
    "- display the state in a text format like + 0.7 |10> - 0.7 |01>\n",
    "\n",
    "Feel free to copy/paste from the documentation and tutorials, but spend some time to understand what each step is doing."
   ]
  },
  {
   "cell_type": "code",
   "execution_count": null,
   "metadata": {},
   "outputs": [],
   "source": []
  },
  {
   "cell_type": "markdown",
   "metadata": {},
   "source": [
    "## 1.2 Observable\n",
    "\n",
    "The QLM is quite handy to estimate the expectation value of given observables. Here is the energy of our pair of qubits:\n",
    "\n",
    "$$H = J Z_0 Z_1 + h (X_0 + X_1)$$\n",
    "\n",
    "Estimate $\\langle\\psi|H|\\psi\\rangle$:\n",
    "- create an Observable() object\n",
    "- create a new job (from the same circuit) of type 'OBS'\n",
    "- submit it\n",
    "- print the field .value "
   ]
  },
  {
   "cell_type": "code",
   "execution_count": null,
   "metadata": {},
   "outputs": [],
   "source": []
  },
  {
   "cell_type": "markdown",
   "metadata": {},
   "source": [
    "# Quantum Approximation Optimization Algorithm (QAOA)\n",
    "\n",
    "We will see how to implement an hybrid quantum-classical algorithm and use it to solve Combinatorial Optimization (CO) problems.\n",
    "\n",
    "You can read the documents given with this notebook"
   ]
  },
  {
   "cell_type": "markdown",
   "metadata": {},
   "source": [
    "## Max-cut problems"
   ]
  },
  {
   "cell_type": "markdown",
   "metadata": {},
   "source": [
    "Maxcut is a simple CO problem which consists in finding the partition of a graph that maximize the cut.\n",
    "\n",
    "myQLM/QLM comes with a set of classes that contain the circuit and the observable implementation. \n",
    "\n",
    "Let's create a graph and use the QLM classes to find the best cut."
   ]
  },
  {
   "cell_type": "code",
   "execution_count": null,
   "metadata": {},
   "outputs": [],
   "source": [
    "# Misc imports\n",
    "import numpy as np\n",
    "import matplotlib.pyplot as plt\n",
    "import scipy\n",
    "\n",
    "import networkx as nx\n"
   ]
  },
  {
   "cell_type": "code",
   "execution_count": null,
   "metadata": {},
   "outputs": [],
   "source": [
    "graph = nx.generators.random_graphs.erdos_renyi_graph(7, .55)\n",
    "\n",
    "N_nodes = len(graph.nodes)\n",
    "pos=nx.spring_layout(graph)\n",
    "\n",
    "plt.figure(figsize=(4,3))\n",
    "nx.draw(graph, with_labels=True, font_weight='bold', pos=pos)\n"
   ]
  },
  {
   "cell_type": "code",
   "execution_count": null,
   "metadata": {},
   "outputs": [],
   "source": [
    "def display_results(circuit):\n",
    "    sampling_job = circuit.to_job()\n",
    "\n",
    "    sol_res = qpu.submit(sampling_job)\n",
    "    \n",
    "    prob_sorted_states = sorted(sol_res, key = lambda s: s.probability, reverse=True)\n",
    "    print(\"5 most probable states are:\")\n",
    "    for sample in prob_sorted_states[:5]:\n",
    "        print(sample.state, \"{:.2f}%\".format(100 * sample.probability))\n",
    "\n",
    "    # Picking the most probable cut\n",
    "    best_cut = prob_sorted_states[0].state.value[0]\n",
    "    print(\"Most probable cut:\", \n",
    "        [i for i in graph.nodes() if best_cut[i] == '1'], \n",
    "        [i for i in graph.nodes() if best_cut[i] == '0'])\n",
    "    \n",
    "    # Plotting the cut nicely\n",
    "    plt.figure(figsize=(4,3))\n",
    "    nx.draw(\n",
    "        graph, labels={i: str(i) for i in graph.nodes()}, pos=pos,\n",
    "        node_color=['yellow' if b == '1' else '#6495ED' for b in best_cut], #limegreen\n",
    "        edge_color=['red' if best_cut[a] != best_cut[b] else 'black' for a, b in graph.edges()])"
   ]
  },
  {
   "cell_type": "markdown",
   "metadata": {},
   "source": [
    "## CombinatorialProblem classes"
   ]
  },
  {
   "cell_type": "markdown",
   "metadata": {},
   "source": [
    "The QLM ships classes that provide all the objects needed to solve some very common combinatorial problems. Let's have a look at the Max-cut problem that consists in partition"
   ]
  },
  {
   "cell_type": "code",
   "execution_count": null,
   "metadata": {},
   "outputs": [],
   "source": [
    "from qat.vsolve.qaoa import MaxCut as MaxCut_QAOA"
   ]
  },
  {
   "cell_type": "markdown",
   "metadata": {},
   "source": [
    "Using the functions of the MaxCut class, \n",
    "\n",
    "_instantiate a MaxCut object and display the circuit that generates the QAOA ansatz._\n",
    "\n",
    "_Can you recognize blocks of gates? Can you understand their roles?_"
   ]
  },
  {
   "cell_type": "code",
   "execution_count": null,
   "metadata": {},
   "outputs": [],
   "source": []
  },
  {
   "cell_type": "markdown",
   "metadata": {},
   "source": [
    "## Create an execution stack"
   ]
  },
  {
   "cell_type": "markdown",
   "metadata": {},
   "source": [
    "The execution stack consists in a series of plugins piped to a qpu. Let's use ScipyMinimizePlugin to optimize the parameters of the ansatz\n",
    "\n",
    "Instantiate a QPU and some plugin(s)."
   ]
  },
  {
   "cell_type": "code",
   "execution_count": null,
   "metadata": {},
   "outputs": [],
   "source": []
  },
  {
   "cell_type": "markdown",
   "metadata": {},
   "source": [
    "Submit the job and print the result.\n",
    "\n",
    "What is the meaning of this result?"
   ]
  },
  {
   "cell_type": "code",
   "execution_count": null,
   "metadata": {},
   "outputs": [],
   "source": []
  },
  {
   "cell_type": "markdown",
   "metadata": {},
   "source": [
    "The graph can be drawn with the associated cut.\n",
    "\n",
    "Build an optimal circuit using the optimal parameters (look at the meta_data property of your result) and the bind_variables function of the class Circuit().\n",
    "\n",
    "Use the function display_results() to draw the graph"
   ]
  },
  {
   "cell_type": "code",
   "execution_count": null,
   "metadata": {},
   "outputs": [],
   "source": []
  },
  {
   "cell_type": "markdown",
   "metadata": {},
   "source": [
    "## Under the hood\n"
   ]
  },
  {
   "cell_type": "markdown",
   "metadata": {},
   "source": [
    "In this section, we will understand what MaxCut() does internally. Feel free to read the documents given with this notebook to understand QAOA.\n",
    "\n",
    "Let's start with the cost function. \n",
    "\n",
    "Can you write a function O({z}) that counts the number of of edges that connect nodes of different subset. Here we can associate a 'binary' value (-1 or 1) to each node and consider a subset the ensemble of node that have the same value. \n",
    "\n",
    "$$ O(\\{z\\}) = $$ \n",
    "\n",
    "Solving MaxCut means maximizing O() or minimizing -O(). \n",
    "\n",
    "_Can you simplify C(z)=-O(z) and create the associated Observable object with myQLM/QLM?_"
   ]
  },
  {
   "cell_type": "code",
   "execution_count": null,
   "metadata": {},
   "outputs": [],
   "source": []
  },
  {
   "cell_type": "code",
   "execution_count": null,
   "metadata": {},
   "outputs": [],
   "source": [
    "# Programming imports\n",
    "from qat.lang.AQASM import Program, QRoutine, RX, RZ, CNOT, H\n",
    "from qat.core.variables import Variable\n"
   ]
  },
  {
   "cell_type": "markdown",
   "metadata": {},
   "source": [
    "We now implement QAOA with QLM. \n",
    "\n",
    "Replace the XXX in the code and comments below.  \n"
   ]
  },
  {
   "cell_type": "code",
   "execution_count": null,
   "metadata": {},
   "outputs": [],
   "source": [
    "prog = XXX()\n",
    "reg = prog.qalloc(XXX)\n",
    "p = 2\n",
    "gammas = [prog.new_var(XXX, \"\\\\gamma_{}\".format(i)) for i in range(p)]\n",
    "betas = [prog.new_var(XXX, \"\\\\beta_{}\".format(i)) for i in range(p)]\n",
    "for i in range(p):\n",
    "    #Exploration\n",
    "    for j, qb in enumerate(reg):\n",
    "        prog.apply(XXX(XXX),XXX)\n",
    "        \n",
    "    #Exploitation\n",
    "    for edge in graph.edges:\n",
    "        prog.apply(XXX, XXX, XXX)\n",
    "        prog.apply(XXX(XXX), XXX)\n",
    "        prog.apply(XXX, XXX, XXX)\n",
    "        \n",
    "abstract_circuit=prog.XXX()\n"
   ]
  },
  {
   "cell_type": "markdown",
   "metadata": {},
   "source": [
    "Simulate and analyze the results as we did before."
   ]
  },
  {
   "cell_type": "code",
   "execution_count": null,
   "metadata": {},
   "outputs": [],
   "source": []
  },
  {
   "cell_type": "markdown",
   "metadata": {},
   "source": [
    "# Graph coloring"
   ]
  },
  {
   "cell_type": "markdown",
   "metadata": {},
   "source": [
    "Max-Cut problems can be seen as finding the best 2-color graph coloring. Let's try to find a QAOA implementation for the same problem but with k colors\n",
    "\n",
    "For this part, you can read (Hadfield et al., 2019) https://arxiv.org/pdf/1709.03489.pdf for help. Pages 10-12 and 38 are particularly helpful. Do not hesitate to browse through the introduction (section 2 and 3).  "
   ]
  },
  {
   "cell_type": "code",
   "execution_count": null,
   "metadata": {},
   "outputs": [],
   "source": [
    "import time\n",
    "import numpy as np\n",
    "import matplotlib.pyplot as plt\n",
    "from scipy.optimize import minimize\n",
    "import numpy.random as npr\n",
    "import networkx as nx\n",
    "import copy\n",
    "\n",
    "from qat.lang.AQASM import Program,QRoutine,RY,RX,RZ, H,CNOT,Z,PH, X\n",
    "from qat.core import Observable, Term\n",
    "from qat.qpus import get_default_qpu\n",
    "\n",
    "from qat.lang.AQASM.gates import ParamGate, AbstractGate\n",
    "from qat.lang.AQASM.misc import build_gate\n",
    "from qat.core.variables import Variable\n",
    "from qat.core.circuit_builder.matrix_util import default_gate_set"
   ]
  },
  {
   "cell_type": "code",
   "execution_count": null,
   "metadata": {},
   "outputs": [],
   "source": [
    "qpu = get_default_qpu()"
   ]
  },
  {
   "cell_type": "markdown",
   "metadata": {},
   "source": [
    "## The one-hot encoding\n",
    "\n",
    "One-hot encoding is a way to encode information on a group of bits among which the legal combinations of values are only those with a single high (1) bit and all the others low (0).\n",
    "\n",
    "In the following, we will use this encoding to color the graph given at the beginning of this challenge. What is the main drawback of this encoding? \n",
    "\n",
    "Let's consider nb_c=3 colors. How many qubits will we need?"
   ]
  },
  {
   "cell_type": "code",
   "execution_count": null,
   "metadata": {},
   "outputs": [],
   "source": [
    "nb_c = 3"
   ]
  },
  {
   "cell_type": "markdown",
   "metadata": {},
   "source": [
    "Write in latex how a cost function that would do the job?"
   ]
  },
  {
   "cell_type": "markdown",
   "metadata": {},
   "source": [
    "$$ C(\\{Z_i\\}) = $$"
   ]
  },
  {
   "cell_type": "markdown",
   "metadata": {},
   "source": [
    "_Write it then with myQLM_"
   ]
  },
  {
   "cell_type": "code",
   "execution_count": null,
   "metadata": {},
   "outputs": [],
   "source": []
  },
  {
   "cell_type": "markdown",
   "metadata": {},
   "source": [
    "## Step 1: Exploitation\n",
    "Create a function that implements the phase-separation operator.\n",
    "    \n",
    "You can start by creating a subcircuit that does this for a single edge (get inspiration from what you did with MaxCut). \n",
    "\n",
    "Then build a second a function that implements this step for all edges of the graph. "
   ]
  },
  {
   "cell_type": "code",
   "execution_count": null,
   "metadata": {},
   "outputs": [],
   "source": []
  },
  {
   "cell_type": "markdown",
   "metadata": {},
   "source": [
    "Feel free to display the qroutine for each step"
   ]
  },
  {
   "cell_type": "code",
   "execution_count": null,
   "metadata": {},
   "outputs": [],
   "source": []
  },
  {
   "cell_type": "markdown",
   "metadata": {},
   "source": [
    "## Step 2: Exploration\n",
    "_Create a function that implements the mixing operator_\n",
    "\n",
    "We give you the one_qubit_mixing gate as a matrix. Working with a simulator offers the freedom to bypass some gate implementation and use directly arbitrary operators.\n",
    "\n",
    "_What is this gate?_ \n",
    "\n",
    "hint: you can use a qpu to understand its effect. Use bind_variables({variables_names: values}) to assign values to program variables created with .new_var()"
   ]
  },
  {
   "cell_type": "code",
   "execution_count": null,
   "metadata": {},
   "outputs": [],
   "source": [
    "def one_qubit_mixing(theta):\n",
    "    return np.array([[1, 0, 0, 0],\n",
    "                     [0, np.cos(theta), 1j*np.sin(theta), 0],\n",
    "                     [0, 1j*np.sin(theta), np.cos(theta), 0],\n",
    "                     [0, 0, 0, 1]])\n",
    "\n",
    "one_qubit_mixing = AbstractGate(\"1QUBT_MIXING\", [float], arity=2, matrix_generator=one_qubit_mixing)\n",
    "    \n",
    "gs=default_gate_set()\n",
    "gs.add_signature(one_qubit_mixing)\n"
   ]
  },
  {
   "cell_type": "code",
   "execution_count": null,
   "metadata": {},
   "outputs": [],
   "source": []
  },
  {
   "cell_type": "markdown",
   "metadata": {},
   "source": [
    "With the one one_qubit_mixing gate, _write first a function that implements the mixing operator $U_v$ which 'mixes' one node._"
   ]
  },
  {
   "cell_type": "code",
   "execution_count": null,
   "metadata": {},
   "outputs": [],
   "source": []
  },
  {
   "cell_type": "markdown",
   "metadata": {},
   "source": [
    "The $U_M$ mixer operator mixes all the nodes to create a large superposition of (valid with respect to the one-hot encoding) states\n",
    "\n",
    "_Write the qroutine associated to $U_M$._"
   ]
  },
  {
   "cell_type": "code",
   "execution_count": null,
   "metadata": {},
   "outputs": [],
   "source": []
  },
  {
   "cell_type": "markdown",
   "metadata": {},
   "source": [
    "Optionnal: with the help of (Hadfield et al., 2019), you could find a quantum routine that do the job of one_qubit_mixing()"
   ]
  },
  {
   "cell_type": "code",
   "execution_count": null,
   "metadata": {},
   "outputs": [],
   "source": []
  },
  {
   "cell_type": "markdown",
   "metadata": {},
   "source": [
    "## Step 3:\n",
    "_Write the full program that will create the QAOA ansatz. Don't forget a coherent initialization._"
   ]
  },
  {
   "cell_type": "code",
   "execution_count": null,
   "metadata": {},
   "outputs": [],
   "source": []
  },
  {
   "cell_type": "markdown",
   "metadata": {},
   "source": [
    "## Simulation\n",
    "\n",
    "Once your program is done, export it in the circuit format and use it in a simulation to extract the optimal $\\gamma_i$ and $\\beta_i$"
   ]
  },
  {
   "cell_type": "code",
   "execution_count": null,
   "metadata": {},
   "outputs": [],
   "source": [
    "method=\"Nelder-Mead\"\n",
    "tol=1e-2\n",
    "options={\"maxiter\":2}"
   ]
  },
  {
   "cell_type": "code",
   "execution_count": null,
   "metadata": {},
   "outputs": [],
   "source": []
  },
  {
   "cell_type": "markdown",
   "metadata": {},
   "source": [
    "## Analysis\n",
    "\n",
    "The simulation must have returned a Results() object with the optimal $\\gamma_i$ and $\\beta_i$. _Extract them (use the properties .meta_data)._"
   ]
  },
  {
   "cell_type": "code",
   "execution_count": null,
   "metadata": {},
   "outputs": [],
   "source": []
  },
  {
   "cell_type": "markdown",
   "metadata": {},
   "source": [
    "_Write a function similar to display_results that draw a colored graph_ "
   ]
  },
  {
   "cell_type": "code",
   "execution_count": null,
   "metadata": {},
   "outputs": [],
   "source": [
    "def display_results_multicolor(params):\n",
    "    c_res = circ.bind_variables(params,gate_set=gs)\n",
    "\n",
    "    #... "
   ]
  },
  {
   "cell_type": "code",
   "execution_count": null,
   "metadata": {},
   "outputs": [],
   "source": [
    "display_results_multicolor(XXX)"
   ]
  },
  {
   "cell_type": "markdown",
   "metadata": {},
   "source": [
    "Congratulation, you've made it! You have implemented QAOA for graph coloring. "
   ]
  }
 ],
 "metadata": {
  "kernelspec": {
   "display_name": "Python 3",
   "language": "python",
   "name": "python3"
  },
  "language_info": {
   "codemirror_mode": {
    "name": "ipython",
    "version": 3
   },
   "file_extension": ".py",
   "mimetype": "text/x-python",
   "name": "python",
   "nbconvert_exporter": "python",
   "pygments_lexer": "ipython3",
   "version": "3.7.9"
  }
 },
 "nbformat": 4,
 "nbformat_minor": 4
}
